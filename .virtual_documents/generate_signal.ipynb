import numpy as np
import matplotlib.pyplot as plt
import pandas as pd
import random


# Generate a signal for a damped harmonic oscillator, with some noise introduced -- assume underdamped
# SI Units:
# t in s
# x in m
# v_x in m/s
# m in kg
# b in N s / m
# k in N / m
def generate_signal(t_min = 0, t_max = 10, x_0 = 5, vx_0 = 3, m = 4, b = 4, k = 15, num_points = 1000):
    t = np.linspace(t_min, t_max, num_points) + np.random.normal(0, 0.1*(t_max-t_min)/num_points, num_points)
    gamma = b / (2*m)
    omega_0 = (k / m)**0.5
    omega_d = (omega_0**2 - gamma**2)**0.5
    C1 = x_0
    C2 = (vx_0 + gamma*x_0) / omega_d
    x = np.exp(-gamma*t) * (C1 * np.cos(omega_d*t) + C2 * np.sin(omega_d*t) ) + np.random.normal(0, x_0*0.01, num_points)
    return t, x


t, x = generate_signal()
plt.plot(t,x)
plt.xlabel("Time (s)")
plt.ylabel("Displacement (m)")
plt.title("Sample data for an underdamped system")


data = pd.DataFrame(data = x, index = t)
data.columns = ["displacement"]
data.index.name = "time"
data


data.to_csv("./damped_oscillator_data.csv")
